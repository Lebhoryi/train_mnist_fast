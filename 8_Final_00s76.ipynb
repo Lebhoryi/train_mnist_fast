{
 "cells": [
  {
   "cell_type": "code",
   "execution_count": 1,
   "metadata": {},
   "outputs": [],
   "source": [
    "from __future__ import print_function\n",
    "import argparse\n",
    "import torch\n",
    "import torch.nn as nn\n",
    "import torch.nn.functional as F\n",
    "import torch.optim as optim\n",
    "from torch.optim.lr_scheduler import OneCycleLR"
   ]
  },
  {
   "cell_type": "code",
   "execution_count": 2,
   "metadata": {},
   "outputs": [],
   "source": [
    "class Argument():\n",
    "    def __init__(self, batch_size=256, test_batch_size=2000, epochs=1, lr=1e-2, no_cuda=False, save_model=False):\n",
    "        \n",
    "        self.batch_size = batch_size\n",
    "        self.test_batch_size = test_batch_size\n",
    "        self.epochs = epochs\n",
    "        self.lr = lr\n",
    "        self.no_cuda = no_cuda\n",
    "        self.save_model = save_model\n"
   ]
  },
  {
   "cell_type": "code",
   "execution_count": 3,
   "metadata": {},
   "outputs": [],
   "source": [
    "args = Argument()\n",
    "use_cuda = not args.no_cuda and torch.cuda.is_available()\n",
    "\n",
    "device = torch.device(\"cuda\" if use_cuda else \"cpu\")"
   ]
  },
  {
   "cell_type": "code",
   "execution_count": 4,
   "metadata": {},
   "outputs": [],
   "source": [
    "#%%time\n",
    "\n",
    "#import data_saver\n",
    "#data_saver.save_data()"
   ]
  },
  {
   "cell_type": "code",
   "execution_count": 5,
   "metadata": {},
   "outputs": [
    {
     "name": "stdout",
     "output_type": "stream",
     "text": [
      "Wall time: 1.88 s\n"
     ]
    }
   ],
   "source": [
    "%%time\n",
    "\n",
    "train_data = torch.load('data/train_data.pt', map_location=device)\n",
    "train_labels = torch.load('data/train_labels.pt', map_location=device)\n",
    "\n",
    "test_data = torch.load('data/test_data.pt', map_location=device)\n",
    "test_labels = torch.load('data/test_labels.pt', map_location=device)"
   ]
  },
  {
   "cell_type": "code",
   "execution_count": 6,
   "metadata": {},
   "outputs": [],
   "source": [
    "class Net(nn.Module):\n",
    "    def __init__(self):\n",
    "        super(Net, self).__init__()\n",
    "        self.conv1 = nn.Conv2d(1, 24, 5, 1)\n",
    "        self.conv2 = nn.Conv2d(24, 32, 3, 1)\n",
    "        self.fc1 = nn.Linear(800, 256)\n",
    "        self.fc2 = nn.Linear(256, 10)\n",
    "\n",
    "    def forward(self, x):\n",
    "        x = self.conv1(x)\n",
    "        x = F.max_pool2d(x, 2)\n",
    "        x = F.relu(x)\n",
    "        \n",
    "        x = self.conv2(x)\n",
    "        x = F.max_pool2d(x, 2)\n",
    "        x = F.relu(x)\n",
    "        \n",
    "        x = torch.flatten(x, 1)\n",
    "        x = self.fc1(x)\n",
    "        x = F.relu(x)\n",
    "        x = self.fc2(x)\n",
    "        output = F.log_softmax(x, dim=1)\n",
    "        return output\n",
    "\n",
    "def train(args, model, device, optimizer, scheduler, epochs):\n",
    "    batch_size = args.batch_size\n",
    "    model.train()\n",
    "    batches_per_epoch = (len(train_data)-1)//batch_size + 1\n",
    "    \n",
    "    for i in range(int(epochs*batches_per_epoch)):\n",
    "        i = i%batches_per_epoch\n",
    "        data = train_data[batch_size*i:batch_size*(i+1)]\n",
    "        target = train_labels[batch_size*i:batch_size*(i+1)]\n",
    "        optimizer.zero_grad()\n",
    "        output = model(data)\n",
    "        loss = F.nll_loss(output, target)\n",
    "        loss.backward()\n",
    "        optimizer.step()\n",
    "        scheduler.step()\n",
    "    \n",
    "\n",
    "\n",
    "def test(args, model, device, epoch):\n",
    "    model.eval()\n",
    "    batch_size = args.test_batch_size\n",
    "    test_loss = 0\n",
    "    correct = 0\n",
    "    with torch.no_grad():\n",
    "        for i in range(len(test_data)//batch_size):\n",
    "            data = test_data[batch_size*i:batch_size*(i+1)]\n",
    "            target = test_labels[batch_size*i:batch_size*(i+1)]\n",
    "            output = model(data)\n",
    "            test_loss += F.nll_loss(output, target, reduction='sum').item()  # sum up batch loss\n",
    "            pred = output.argmax(dim=1, keepdim=True)  # get the index of the max log-probability\n",
    "            correct += pred.eq(target.view_as(pred)).sum().item()\n",
    "\n",
    "    test_loss /= len(test_labels)\n",
    "\n",
    "    #print('Epoch {} Test set: Average loss: {:.4f}, Accuracy: ({:.2f}%)\\n'.format(\n",
    "    #    epoch, test_loss, 100. * correct / len(test_data)))\n",
    "    return 100.*correct / len(test_labels)\n",
    "\n",
    "\n",
    "def main():\n",
    "    model = Net().to(device)\n",
    "    optimizer = optim.Adam(model.parameters(), lr=args.lr, betas=(0.7, 0.9))\n",
    "\n",
    "    scheduler = OneCycleLR(optimizer, max_lr=args.lr,\n",
    "                           total_steps=int(((len(train_data)-1)//args.batch_size + 1)*args.epochs), \n",
    "                           cycle_momentum=False)\n",
    "    \n",
    "    train(args, model, device, optimizer, scheduler, args.epochs)\n",
    "        \n",
    "    test_acc = test(args, model, device, args.epochs+1)\n",
    "\n",
    "    if args.save_model:\n",
    "        torch.save(model.state_dict(), \"mnist_cnn.pt\")\n",
    "        \n",
    "    return test_acc\n"
   ]
  },
  {
   "cell_type": "code",
   "execution_count": 7,
   "metadata": {},
   "outputs": [
    {
     "name": "stdout",
     "output_type": "stream",
     "text": [
      "99.07\n",
      "98.94\n",
      "98.93\n",
      "99.05\n",
      "99.07\n",
      "98.96\n",
      "99.12\n",
      "98.97\n",
      "762 ms ± 24.9 ms per loop (mean ± std. dev. of 7 runs, 1 loop each)\n"
     ]
    }
   ],
   "source": [
    "%%timeit\n",
    "\n",
    "print(main())"
   ]
  },
  {
   "cell_type": "code",
   "execution_count": 8,
   "metadata": {},
   "outputs": [
    {
     "name": "stdout",
     "output_type": "stream",
     "text": [
      "0\n",
      "5\n",
      "10\n",
      "15\n",
      "20\n",
      "25\n",
      "Mean: 99.041 +- 0.066\n"
     ]
    }
   ],
   "source": [
    "import numpy as np\n",
    "\n",
    "test_accs = []\n",
    "for i in range(30):\n",
    "    if i%5==0:\n",
    "        print(i)\n",
    "    test_accs.append(main())\n",
    "\n",
    "print(\"Mean: {:.3f} +- {:.3f}\".format(np.mean(test_accs), np.std(test_accs)))"
   ]
  }
 ],
 "metadata": {
  "kernelspec": {
   "display_name": "Python 3",
   "language": "python",
   "name": "python3"
  },
  "language_info": {
   "codemirror_mode": {
    "name": "ipython",
    "version": 3
   },
   "file_extension": ".py",
   "mimetype": "text/x-python",
   "name": "python",
   "nbconvert_exporter": "python",
   "pygments_lexer": "ipython3",
   "version": "3.9.2"
  }
 },
 "nbformat": 4,
 "nbformat_minor": 2
}
